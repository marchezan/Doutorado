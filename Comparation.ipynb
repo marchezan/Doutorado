{
 "cells": [
  {
   "cell_type": "code",
   "execution_count": 5,
   "metadata": {},
   "outputs": [],
   "source": [
    "import pandas as pd\n",
    "from sklearn.model_selection import train_test_split\n",
    "from sklearn.neural_network import MLPClassifier\n",
    "from sklearn.model_selection import train_test_split, GridSearchCV\n",
    "from sklearn.preprocessing import StandardScaler\n",
    "from sklearn.metrics import accuracy_score\n",
    "from sklearn.metrics import confusion_matrix, classification_report\n",
    "from sklearn.neighbors import KNeighborsClassifier\n",
    "\n",
    "\n",
    "# Load data from CSV file\n",
    "file_path = r'C:\\Users\\Andre\\Downloads\\DOUTORADO\\consolidadof1.xlsx'\n",
    "data = pd.read_excel(file_path)\n",
    "#data = pd.read_excel('c:\\andre\\consolidado.xlsx', sheet_name='Sheet1')\n",
    "\n",
    "# Assuming the last column is the target/output column\n",
    "X = data.iloc[:, :-1]  # Features (all columns except the last one)\n",
    "y = data.iloc[:, -1]   # Target/Output column\n",
    "\n",
    "# Split data into training and testing sets\n",
    "X_train, X_test, y_train, y_test = train_test_split(X, y, test_size=0.2, random_state=42)\n",
    "\n",
    "scaler = StandardScaler()\n",
    "X_train = scaler.fit_transform(X_train)\n",
    "X_test = scaler.transform(X_test)\n",
    "\n",
    "# Load data from CSV file\n",
    "file_path = r'C:\\Users\\Andre\\Downloads\\DOUTORADO\\consolidadok2.xlsx'\n",
    "data = pd.read_excel(file_path)\n",
    "\n",
    "# Assuming the last column is the target/output column\n",
    "X2 = data.iloc[:, :-1]  # Features (all columns except the last one)\n",
    "y2 = data.iloc[:, -1]   # Target/Output column\n",
    "\n",
    "# Split data into training and testing sets\n",
    "X2_train, X2_test, y2_train, y2_test = train_test_split(X2, y2, test_size=0.2, random_state=42)\n",
    "\n",
    "scaler = StandardScaler()\n",
    "X2_train = scaler.fit_transform(X2_train)\n",
    "X2_test = scaler.transform(X2_test)"
   ]
  },
  {
   "cell_type": "code",
   "execution_count": 6,
   "metadata": {},
   "outputs": [
    {
     "name": "stdout",
     "output_type": "stream",
     "text": [
      "Confusion Matrix:\n",
      "[[  0   6 122]\n",
      " [  0   6 155]\n",
      " [183 105 143]]\n",
      "\n",
      "Classification Report:\n",
      "              precision    recall  f1-score   support\n",
      "\n",
      "           0       0.00      0.00      0.00       128\n",
      "           2       0.05      0.04      0.04       161\n",
      "           5       0.34      0.33      0.34       431\n",
      "\n",
      "    accuracy                           0.21       720\n",
      "   macro avg       0.13      0.12      0.13       720\n",
      "weighted avg       0.22      0.21      0.21       720\n",
      "\n"
     ]
    }
   ],
   "source": [
    "# Define the MLPClassifier\n",
    "#mlp_classifier = MLPClassifier(hidden_layer_sizes=(12), max_iter=100, activation='relu', solver='adam', random_state=42)\n",
    "mlp_classifier = MLPClassifier(\n",
    "    hidden_layer_sizes=(20,20),\n",
    "    max_iter=500,\n",
    "    activation='relu',\n",
    "    solver='adam',\n",
    "    alpha=0.001,\n",
    "    learning_rate='constant',\n",
    "    random_state=42)\n",
    "    \n",
    "# Train the model\n",
    "mlp_classifier.fit(X_train, y_train)\n",
    "\n",
    "# Predict the labels for test set\n",
    "y2_pred = mlp_classifier.predict(X2_test)\n",
    "\n",
    "# Print confusion matrix\n",
    "print(\"Confusion Matrix:\")\n",
    "print(confusion_matrix(y2_test, y2_pred))\n",
    "\n",
    "# Print classification report\n",
    "print(\"\\nClassification Report:\")\n",
    "print(classification_report(y2_test, y2_pred))"
   ]
  },
  {
   "cell_type": "code",
   "execution_count": 7,
   "metadata": {},
   "outputs": [
    {
     "name": "stdout",
     "output_type": "stream",
     "text": [
      "Acurácia: 0.12\n",
      "Relatório de classificação:\n",
      "              precision    recall  f1-score   support\n",
      "\n",
      "           0       0.00      0.00      0.00       128\n",
      "           2       0.04      0.06      0.05       161\n",
      "           5       0.22      0.18      0.20       431\n",
      "\n",
      "    accuracy                           0.12       720\n",
      "   macro avg       0.09      0.08      0.08       720\n",
      "weighted avg       0.14      0.12      0.13       720\n",
      "\n"
     ]
    }
   ],
   "source": [
    "knn = KNeighborsClassifier(n_neighbors=7)  # k=7\n",
    "knn.fit(X_train, y_train)\n",
    "\n",
    "# Fazendo previsões\n",
    "y2_pred = knn.predict(X2_test)\n",
    "\n",
    "# Avaliando o modelo\n",
    "accuracy = accuracy_score(y2_test, y2_pred)\n",
    "print(f\"Acurácia: {accuracy:.2f}\")\n",
    "\n",
    "# Relatório detalhado\n",
    "print(\"Relatório de classificação:\")\n",
    "print(classification_report(y2_test, y2_pred))"
   ]
  },
  {
   "cell_type": "markdown",
   "metadata": {},
   "source": []
  }
 ],
 "metadata": {
  "kernelspec": {
   "display_name": "base",
   "language": "python",
   "name": "python3"
  },
  "language_info": {
   "codemirror_mode": {
    "name": "ipython",
    "version": 3
   },
   "file_extension": ".py",
   "mimetype": "text/x-python",
   "name": "python",
   "nbconvert_exporter": "python",
   "pygments_lexer": "ipython3",
   "version": "3.12.2"
  }
 },
 "nbformat": 4,
 "nbformat_minor": 2
}
